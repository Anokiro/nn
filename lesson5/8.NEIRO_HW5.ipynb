{
 "cells": [
  {
   "cell_type": "markdown",
   "metadata": {
    "id": "vQnDWSn8TEOl"
   },
   "source": [
    "# Введение в искусственные нейронные сети\n",
    "# Урок 5. Рекуррентные нейронные сети"
   ]
  },
  {
   "cell_type": "markdown",
   "metadata": {},
   "source": [
    "#### 1) Попробуйте изменить параметры нейронной сети, работающей с датасетом imdb, либо нейронной сети, работающей airline-passengers (она прилагается вместе с датасетом к уроку в виде отдельного скрипта) так, чтобы улучшить её точность. Приложите анализ\n"
   ]
  },
  {
   "cell_type": "code",
   "execution_count": 1,
   "metadata": {
    "id": "wuI6h_TyEhvl"
   },
   "outputs": [],
   "source": [
    "from __future__ import print_function\n",
    "\n",
    "import os\n",
    "import datetime\n",
    "import numpy as np\n",
    "import pandas as pd\n",
    "import matplotlib.pyplot as plt\n",
    "from tensorflow.keras.preprocessing.sequence import pad_sequences\n",
    "import tensorflow.keras.utils as ku \n",
    "from tensorflow.keras.callbacks import EarlyStopping\n",
    "from tensorflow.keras import regularizers\n",
    "\n",
    "from tensorflow.keras.preprocessing.text import Tokenizer\n",
    "from keras.preprocessing import sequence\n",
    "from keras.models import Sequential\n",
    "from keras.layers import Dense, Embedding\n",
    "from keras.layers import  SimpleRNN, LSTM, GRU, Flatten,  Conv1D, Conv2D,  Dropout, Bidirectional\n",
    "from keras.datasets import imdb"
   ]
  },
  {
   "cell_type": "markdown",
   "metadata": {},
   "source": [
    "imdb загружает набор данных IMDB.\n",
    "\n",
    "Набор данных состоит из 25 000 рецензий к фильмам от IMDB и имеет положительные или отрицательные метки. Рецензии были предварительно обработаны, и каждая рецензия кодируется как список индексов слов (целых чисел). Для удобства слова индексируются по общей частоте в наборе данных, так что, например, целое число \"3\" кодирует 3-е наиболее частое слово в данных. Это позволяет выполнять быстрые операции фильтрации.\n",
    "\n",
    "Как правило, \"0\" означает не конкретное слово, а используется для кодирования любого неизвестного слова."
   ]
  },
  {
   "cell_type": "code",
   "execution_count": 2,
   "metadata": {},
   "outputs": [
    {
     "name": "stdout",
     "output_type": "stream",
     "text": [
      "Загрузка данных...\n",
      "25000 тренировочные последовательности\n",
      "25000 тестовые последовательности\n"
     ]
    }
   ],
   "source": [
    "max_features = 10000\n",
    "\n",
    "# Каждый отзыв(рецензия) имеею разную длину уникальных слов, поэтому необходимо обрезать отзыв и сделать векторы равной длины.\n",
    "# Нейронка принимает только равные по длине векторы!\n",
    "# обрезание текстов после данного количества слов (среди top max_features наиболее используемые слова)\n",
    "maxlen = 80\n",
    "batch_size = 50 # увеличьте значение для ускорения обучения\n",
    "\n",
    "print('Загрузка данных...')\n",
    "(x_train, y_train), (x_test, y_test) = imdb.load_data(num_words=max_features)\n",
    "print(len(x_train), 'тренировочные последовательности')\n",
    "print(len(x_test), 'тестовые последовательности')"
   ]
  },
  {
   "cell_type": "code",
   "execution_count": 3,
   "metadata": {},
   "outputs": [
    {
     "data": {
      "text/plain": [
       "88584"
      ]
     },
     "execution_count": 3,
     "metadata": {},
     "output_type": "execute_result"
    }
   ],
   "source": [
    "index = imdb.get_word_index()\n",
    "len(index)"
   ]
  },
  {
   "cell_type": "code",
   "execution_count": 4,
   "metadata": {},
   "outputs": [
    {
     "data": {
      "text/plain": [
       "Text(0, 0.5, 'N_reviews < maxlen')"
      ]
     },
     "execution_count": 4,
     "metadata": {},
     "output_type": "execute_result"
    },
    {
     "data": {
      "image/png": "[encoded data removed]",
      "text/plain": [
       "<Figure size 432x288 with 1 Axes>"
      ]
     },
     "metadata": {
      "needs_background": "light"
     },
     "output_type": "display_data"
    }
   ],
   "source": [
    "# Проверим сколько отзывов имеют длину меньше заданной длины maxlen\n",
    "list_loss_len = []\n",
    "for num_ in range(200):\n",
    "    less_then_maxlen = [ii for ii in range(len(x_train)) if (len(x_train[ii]) < num_ )]\n",
    "    list_loss_len.append(len(less_then_maxlen))\n",
    "\n",
    "plt.plot(range(len(list_loss_len)), list_loss_len)\n",
    "plt.xlabel('maxlen')\n",
    "plt.ylabel('N_reviews < maxlen')"
   ]
  },
  {
   "cell_type": "code",
   "execution_count": 5,
   "metadata": {},
   "outputs": [
    {
     "name": "stdout",
     "output_type": "stream",
     "text": [
      "Pad последовательности (примеров в x единицу времени)\n",
      "x_train shape: (25000, 80)\n",
      "x_test shape: (25000, 80)\n"
     ]
    }
   ],
   "source": [
    "print('Pad последовательности (примеров в x единицу времени)')\n",
    "x_train = sequence.pad_sequences(x_train, maxlen=maxlen)\n",
    "x_test = sequence.pad_sequences(x_test, maxlen=maxlen)\n",
    "print('x_train shape:', x_train.shape)\n",
    "print('x_test shape:', x_test.shape)"
   ]
  },
  {
   "cell_type": "code",
   "execution_count": 6,
   "metadata": {},
   "outputs": [
    {
     "data": {
      "text/plain": [
       "80"
      ]
     },
     "execution_count": 6,
     "metadata": {},
     "output_type": "execute_result"
    }
   ],
   "source": [
    "len(x_train[6719])"
   ]
  },
  {
   "cell_type": "code",
   "execution_count": 7,
   "metadata": {},
   "outputs": [
    {
     "data": {
      "text/plain": [
       "array([   0,    0,    0,    0,    0,    0,    0,    0,    0,    0,    0,\n",
       "          0,    0,    0,    0,    0,    0,    0,    0,    0,    0,    0,\n",
       "          0,    0,    0,    0,    0,    0,    0,    0,    0,    0,    0,\n",
       "          0,    0,    0,    0,    0,    0,    0,    0,    0,    0,    0,\n",
       "          0,    0,    0,    0,    0,    0,    0,    0,    0,    0,    0,\n",
       "          0,    0,    0,    0,    0,    0,    0,    0,    0,    0,    0,\n",
       "          0,    0,    0,    1,   13,  586,  851,   14,   31,   60,   23,\n",
       "       2863, 2364,  314])"
      ]
     },
     "execution_count": 7,
     "metadata": {},
     "output_type": "execute_result"
    }
   ],
   "source": [
    "x_train[6719]"
   ]
  },
  {
   "cell_type": "code",
   "execution_count": 8,
   "metadata": {},
   "outputs": [],
   "source": [
    "def vectorize_seq(data, xLen = 100, step = 1):\n",
    "    results = np.zeros((len(data), xLen, 1))\n",
    "    for i, sequence in enumerate(data):\n",
    "        for j in range(xLen):\n",
    "            results[i, j, :] = sequence[j]           \n",
    "    return results\n",
    " \n",
    "data_train_seq = vectorize_seq(x_train, xLen = 80)\n",
    "data_test_seq = vectorize_seq(x_test, xLen = 80)"
   ]
  },
  {
   "cell_type": "code",
   "execution_count": 9,
   "metadata": {},
   "outputs": [
    {
     "data": {
      "text/plain": [
       "array([1.500e+01, 2.560e+02, 4.000e+00, 2.000e+00, 7.000e+00, 3.766e+03,\n",
       "       5.000e+00, 7.230e+02, 3.600e+01, 7.100e+01, 4.300e+01, 5.300e+02,\n",
       "       4.760e+02, 2.600e+01, 4.000e+02, 3.170e+02, 4.600e+01, 7.000e+00,\n",
       "       4.000e+00, 2.000e+00, 1.029e+03, 1.300e+01, 1.040e+02, 8.800e+01,\n",
       "       4.000e+00, 3.810e+02, 1.500e+01, 2.970e+02, 9.800e+01, 3.200e+01,\n",
       "       2.071e+03, 5.600e+01, 2.600e+01, 1.410e+02, 6.000e+00, 1.940e+02,\n",
       "       7.486e+03, 1.800e+01, 4.000e+00, 2.260e+02, 2.200e+01, 2.100e+01,\n",
       "       1.340e+02, 4.760e+02, 2.600e+01, 4.800e+02, 5.000e+00, 1.440e+02,\n",
       "       3.000e+01, 5.535e+03, 1.800e+01, 5.100e+01, 3.600e+01, 2.800e+01,\n",
       "       2.240e+02, 9.200e+01, 2.500e+01, 1.040e+02, 4.000e+00, 2.260e+02,\n",
       "       6.500e+01, 1.600e+01, 3.800e+01, 1.334e+03, 8.800e+01, 1.200e+01,\n",
       "       1.600e+01, 2.830e+02, 5.000e+00, 1.600e+01, 4.472e+03, 1.130e+02,\n",
       "       1.030e+02, 3.200e+01, 1.500e+01, 1.600e+01, 5.345e+03, 1.900e+01,\n",
       "       1.780e+02, 3.200e+01])"
      ]
     },
     "execution_count": 9,
     "metadata": {},
     "output_type": "execute_result"
    }
   ],
   "source": [
    "data_train_seq[0,:,0]"
   ]
  },
  {
   "cell_type": "code",
   "execution_count": 10,
   "metadata": {},
   "outputs": [
    {
     "name": "stdout",
     "output_type": "stream",
     "text": [
      "Построение модели...\n",
      "Процесс обучения...\n",
      "250/250 [==============================] - 28s 104ms/step - loss: 0.6909 - accuracy: 0.5310 - val_loss: 0.6877 - val_accuracy: 0.5409\n",
      "782/782 [==============================] - 14s 18ms/step - loss: 0.6877 - accuracy: 0.5409\n",
      "Результат при тестировании: 0.6877272129058838\n",
      "Тестовая точность: 0.5409200191497803\n"
     ]
    }
   ],
   "source": [
    "#простая модель\n",
    "\n",
    "print('Построение модели...')\n",
    "model = Sequential()\n",
    "model.add(LSTM(128,return_sequences = False,input_shape = ( 80,1)))\n",
    "model.add(Dense(1, activation = 'sigmoid'))\n",
    "\n",
    "# стоит попробовать использовать другие оптимайзер и другие конфигурации оптимайзеров \n",
    "model.compile(loss = 'binary_crossentropy',\n",
    "              optimizer = 'adam',\n",
    "              metrics = ['accuracy'])\n",
    "\n",
    "print('Процесс обучения...')\n",
    "model.fit(data_train_seq, y_train,\n",
    "          batch_size = 100,\n",
    "          epochs = 1, # увеличьте при необходимости\n",
    "          validation_data = (data_test_seq, y_test))\n",
    "\n",
    "score, acc = model.evaluate(data_test_seq, y_test,\n",
    "#                             batch_size = batch_size\n",
    "                           )\n",
    "print('Результат при тестировании:', score)\n",
    "print('Тестовая точность:', acc)"
   ]
  },
  {
   "cell_type": "code",
   "execution_count": 36,
   "metadata": {},
   "outputs": [
    {
     "name": "stdout",
     "output_type": "stream",
     "text": [
      "Построение модели...\n",
      "Процесс обучения...\n",
      "834/834 [==============================] - 38s 43ms/step - loss: 0.4596 - accuracy: 0.7726 - val_loss: 0.3595 - val_accuracy: 0.8404\n",
      "782/782 [==============================] - 5s 6ms/step - loss: 0.3595 - accuracy: 0.8404\n",
      "Результат при тестировании: 0.35953739285469055\n",
      "Тестовая точность: 0.8404399752616882\n"
     ]
    }
   ],
   "source": [
    "#сложнее модель\n",
    "\n",
    "print('Построение модели...')\n",
    "model = Sequential()\n",
    "\n",
    "model.add(Embedding( max_features,16))\n",
    "# model.add(LSTM(8, dropout = 0.2, recurrent_dropout = 0.2, return_sequences = True))\n",
    "\n",
    "# при переходе к полносвязному слою \"return_sequences = True\" необходимо отключать!\n",
    "model.add(LSTM(16, dropout = 0.1, recurrent_dropout = 0.3))\n",
    "model.add(Flatten())\n",
    "model.add(Dense(1, activation = 'sigmoid'))\n",
    "\n",
    "model.compile(loss = 'binary_crossentropy',\n",
    "              optimizer = 'adam',\n",
    "              metrics = ['accuracy'])\n",
    "\n",
    "print('Процесс обучения...')\n",
    "model.fit(data_train_seq, y_train,\n",
    "          batch_size = 30,\n",
    "          epochs = 1, # увеличьте при необходимости\n",
    "          validation_data = (data_test_seq, y_test))\n",
    "\n",
    "score, acc = model.evaluate(data_test_seq, y_test,\n",
    "#                             batch_size = batch_size\n",
    "                           )\n",
    "print('Результат при тестировании:', score)\n",
    "print('Тестовая точность:', acc)"
   ]
  },
  {
   "cell_type": "markdown",
   "metadata": {},
   "source": [
    "Понижение размера батча(пакет размером 20 - 50) немного увеличивает метрику. Подбор более оптимального dropout также немного увеличивает метрику.\n",
    "\n",
    "Подбор оптимайзера в данном случае практически не влияет на метрику в лучшую сторону(лучший результат с оптимайзером Adam), увеличение количества нейронов > 128 также практически не прибавляет качества(и увеличивает время работы). Использование слоя GRU(или слоёв только на GRU) не приводит к улучшению метрики. Увеличение колчества LSTM слоев не приводит к улучшению качества, как и количества полносвязных слоев.\n",
    "\n",
    "Использование SimpleRNN значительно ухудшает метрику. Использование activation = 'linear' в выходном слое ухудшает метрику.\n"
   ]
  },
  {
   "cell_type": "markdown",
   "metadata": {},
   "source": [
    "##### 2) Попробуйте изменить параметры нейронной сети, генерирующей текст таким образом, чтобы добиться генерации как можно более осмысленного текста. Пришлите лучший текст из получившихся и опишите предпринятые для его получения действия. Можно использовать текст другого произведения"
   ]
  },
  {
   "cell_type": "code",
   "execution_count": 37,
   "metadata": {},
   "outputs": [],
   "source": [
    "tokenizer = Tokenizer(num_words=10000)\n",
    "\n",
    "data = open('alice_in_wonderland.txt', encoding=\"utf-8\").read()\n",
    "#Читаем текст\n",
    "corpus = data.lower().split(\"\\n\")"
   ]
  },
  {
   "cell_type": "code",
   "execution_count": 49,
   "metadata": {
    "scrolled": true
   },
   "outputs": [
    {
     "data": {
      "text/plain": [
       "['project gutenberg’s alice’s adventures in wonderland, by lewis carroll',\n",
       " '',\n",
       " 'this ebook is for the use of anyone anywhere at no cost and with',\n",
       " 'almost no restrictions whatsoever.  you may copy it, give it away or',\n",
       " 're-use it under the terms of the project gutenberg license included',\n",
       " 'with this ebook or online at www.gutenberg.org',\n",
       " '',\n",
       " '',\n",
       " 'title: alice’s adventures in wonderland',\n",
       " '',\n",
       " 'author: lewis carroll',\n",
       " '',\n",
       " 'posting date: june 25, 2008 [ebook #11]',\n",
       " 'release date: march, 1994',\n",
       " 'last updated: october 6, 2016',\n",
       " '',\n",
       " 'language: english',\n",
       " '',\n",
       " 'character set encoding: utf-8',\n",
       " '',\n",
       " '*** start of this project gutenberg ebook alice’s adventures in wonderland ***',\n",
       " '',\n",
       " '',\n",
       " '',\n",
       " '',\n",
       " '',\n",
       " '',\n",
       " '',\n",
       " '',\n",
       " '',\n",
       " '',\n",
       " 'alice’s adventures in wonderland',\n",
       " '',\n",
       " 'lewis carroll',\n",
       " '',\n",
       " 'the millennium fulcrum edition 3.0',\n",
       " '',\n",
       " '',\n",
       " '',\n",
       " '',\n",
       " 'chapter i. down the rabbit-hole',\n",
       " '',\n",
       " 'alice was beginning to get very tired of sitting by her sister on the',\n",
       " 'bank, and of having nothing to do: once or twice she had peeped into the',\n",
       " 'book her sister was reading, but it had no pictures or conversations in',\n",
       " 'it, ‘and what is the use of a book,’ thought alice ‘without pictures or',\n",
       " 'conversations?’',\n",
       " '',\n",
       " 'so she was considering in her own mind (as well as she could, for the',\n",
       " 'hot day made her feel very sleepy and stupid), whether the pleasure']"
      ]
     },
     "execution_count": 49,
     "metadata": {},
     "output_type": "execute_result"
    }
   ],
   "source": [
    "corpus[:50]"
   ]
  },
  {
   "cell_type": "code",
   "execution_count": 39,
   "metadata": {},
   "outputs": [],
   "source": [
    "tokenizer.fit_on_texts( corpus)\n",
    "total_words = len(tokenizer.word_index) + 1\n",
    "\n",
    "# create input sequences using list of tokens\n",
    "input_sequences = []\n",
    "for line in corpus:\n",
    "\ttoken_list = tokenizer.texts_to_sequences([line])[0]\n",
    "\tfor i in range(1, len(token_list)):\n",
    "\t\tn_gram_sequence = token_list[:i+1]\n",
    "\t\tinput_sequences.append(n_gram_sequence)\n",
    "\n",
    "\n",
    "# pad sequences \n",
    "max_sequence_len = max([len(x) for x in input_sequences])\n",
    "input_sequences = np.array(pad_sequences(input_sequences, maxlen=max_sequence_len, padding='pre'))\n",
    "\n",
    "# create predictors and label\n",
    "predictors, label = input_sequences[:,:-1],input_sequences[:,-1]\n",
    "\n",
    "label = ku.to_categorical(label, num_classes=total_words)"
   ]
  },
  {
   "cell_type": "code",
   "execution_count": 40,
   "metadata": {},
   "outputs": [
    {
     "data": {
      "text/plain": [
       "1840"
      ]
     },
     "execution_count": 40,
     "metadata": {},
     "output_type": "execute_result"
    }
   ],
   "source": [
    "tokenizer.word_index['posting']"
   ]
  },
  {
   "cell_type": "code",
   "execution_count": 41,
   "metadata": {},
   "outputs": [
    {
     "data": {
      "text/plain": [
       "(28231, 3399)"
      ]
     },
     "execution_count": 41,
     "metadata": {},
     "output_type": "execute_result"
    }
   ],
   "source": [
    "label.shape"
   ]
  },
  {
   "cell_type": "code",
   "execution_count": 42,
   "metadata": {},
   "outputs": [],
   "source": [
    "callback = EarlyStopping( monitor = 'val_accuracy', patience = 10) # создаем обратный вызов - calback - тут \"Ранняя остановка\""
   ]
  },
  {
   "cell_type": "code",
   "execution_count": 43,
   "metadata": {},
   "outputs": [
    {
     "name": "stdout",
     "output_type": "stream",
     "text": [
      "Model: \"sequential_27\"\n",
      "_________________________________________________________________\n",
      " Layer (type)                Output Shape              Param #   \n",
      "=================================================================\n",
      " embedding_26 (Embedding)    (None, 17, 256)           870144    \n",
      "                                                                 \n",
      " bidirectional (Bidirectiona  (None, 17, 100)          122800    \n",
      " l)                                                              \n",
      "                                                                 \n",
      " lstm_37 (LSTM)              (None, 32)                17024     \n",
      "                                                                 \n",
      " dense_31 (Dense)            (None, 1699)              56067     \n",
      "                                                                 \n",
      " dense_32 (Dense)            (None, 3399)              5778300   \n",
      "                                                                 \n",
      "=================================================================\n",
      "Total params: 6,844,335\n",
      "Trainable params: 6,844,335\n",
      "Non-trainable params: 0\n",
      "_________________________________________________________________\n",
      "None\n"
     ]
    }
   ],
   "source": [
    "model = Sequential()\n",
    "model.add(Embedding(total_words, 256, input_length = max_sequence_len-1)) \n",
    "# вложение тренируемое для перехода от слова к его векторному коду \n",
    "# на вход вложения (эмбединга) передаем вектор словарь (длина равна словарю, вектор разреженный)), \n",
    "#   на выход строим вектор из n (тут 256) координат - он плотный\n",
    "model.add(Bidirectional(LSTM(50, return_sequences = True)))\n",
    "\n",
    "model.add(LSTM(32, dropout = 0.1, recurrent_dropout = 0.3))\n",
    "# model.add(Dropout( 0.2))\n",
    "model.add(Dense(total_words/2, activation = 'relu', kernel_regularizer = regularizers.l2(0.01)))\n",
    "model.add(Dense(total_words, activation = 'softmax'))\n",
    "model.compile(loss = 'categorical_crossentropy', optimizer = 'adam', metrics = ['accuracy'])\n",
    "print(model.summary())"
   ]
  },
  {
   "cell_type": "code",
   "execution_count": 44,
   "metadata": {},
   "outputs": [
    {
     "name": "stdout",
     "output_type": "stream",
     "text": [
      "Epoch 1/25\n",
      "706/706 [==============================] - 64s 83ms/step - loss: 6.1936 - accuracy: 0.0562 - val_loss: 7.0019 - val_accuracy: 0.0519\n",
      "Epoch 2/25\n",
      "706/706 [==============================] - 57s 81ms/step - loss: 5.7172 - accuracy: 0.0718 - val_loss: 7.1703 - val_accuracy: 0.0781\n",
      "Epoch 3/25\n",
      "706/706 [==============================] - 56s 79ms/step - loss: 5.4770 - accuracy: 0.0936 - val_loss: 7.3011 - val_accuracy: 0.0820\n",
      "Epoch 4/25\n",
      "706/706 [==============================] - 56s 79ms/step - loss: 5.2824 - accuracy: 0.1063 - val_loss: 7.5345 - val_accuracy: 0.0912\n",
      "Epoch 5/25\n",
      "706/706 [==============================] - 56s 80ms/step - loss: 5.1230 - accuracy: 0.1176 - val_loss: 7.5225 - val_accuracy: 0.0978\n",
      "Epoch 6/25\n",
      "706/706 [==============================] - 56s 79ms/step - loss: 4.9759 - accuracy: 0.1336 - val_loss: 7.8231 - val_accuracy: 0.0942\n",
      "Epoch 7/25\n",
      "706/706 [==============================] - 56s 79ms/step - loss: 4.8422 - accuracy: 0.1463 - val_loss: 7.9381 - val_accuracy: 0.1020\n",
      "Epoch 8/25\n",
      "706/706 [==============================] - 56s 79ms/step - loss: 4.7160 - accuracy: 0.1569 - val_loss: 7.9883 - val_accuracy: 0.0958\n",
      "Epoch 9/25\n",
      "706/706 [==============================] - 56s 79ms/step - loss: 4.6032 - accuracy: 0.1700 - val_loss: 8.1104 - val_accuracy: 0.1087\n",
      "Epoch 10/25\n",
      "706/706 [==============================] - 55s 79ms/step - loss: 4.4972 - accuracy: 0.1790 - val_loss: 8.3418 - val_accuracy: 0.1094\n",
      "Epoch 11/25\n",
      "706/706 [==============================] - 56s 80ms/step - loss: 4.4000 - accuracy: 0.1869 - val_loss: 8.2592 - val_accuracy: 0.1068\n",
      "Epoch 12/25\n",
      "706/706 [==============================] - 56s 79ms/step - loss: 4.3073 - accuracy: 0.1959 - val_loss: 8.5584 - val_accuracy: 0.1082\n",
      "Epoch 13/25\n",
      "706/706 [==============================] - 56s 80ms/step - loss: 4.2216 - accuracy: 0.2020 - val_loss: 8.7370 - val_accuracy: 0.1055\n",
      "Epoch 14/25\n",
      "706/706 [==============================] - 56s 79ms/step - loss: 4.1328 - accuracy: 0.2113 - val_loss: 8.9411 - val_accuracy: 0.1070\n",
      "Epoch 15/25\n",
      "706/706 [==============================] - 56s 80ms/step - loss: 4.0540 - accuracy: 0.2167 - val_loss: 9.2056 - val_accuracy: 0.1084\n",
      "Epoch 16/25\n",
      "706/706 [==============================] - 56s 79ms/step - loss: 3.9756 - accuracy: 0.2256 - val_loss: 9.3957 - val_accuracy: 0.1075\n",
      "Epoch 17/25\n",
      "706/706 [==============================] - 56s 79ms/step - loss: 3.8981 - accuracy: 0.2322 - val_loss: 9.4794 - val_accuracy: 0.1070\n",
      "Epoch 18/25\n",
      "706/706 [==============================] - 56s 79ms/step - loss: 3.8277 - accuracy: 0.2408 - val_loss: 9.8493 - val_accuracy: 0.0990\n",
      "Epoch 19/25\n",
      "706/706 [==============================] - 56s 80ms/step - loss: 3.7575 - accuracy: 0.2470 - val_loss: 10.0289 - val_accuracy: 0.1025\n",
      "Epoch 20/25\n",
      "706/706 [==============================] - 56s 79ms/step - loss: 3.6893 - accuracy: 0.2563 - val_loss: 10.1851 - val_accuracy: 0.1041\n"
     ]
    }
   ],
   "source": [
    "# перезапустить, не дожидаясь конца\n",
    "history = model.fit(predictors, label, epochs=25, validation_split=0.2, callbacks=[callback],verbose=1)"
   ]
  },
  {
   "cell_type": "code",
   "execution_count": 65,
   "metadata": {},
   "outputs": [
    {
     "name": "stdout",
     "output_type": "stream",
     "text": [
      "[12, 13, 1018, 10, 17, 409, 377]\n",
      "[12, 13, 1018, 10, 17, 409, 377, 19]\n",
      "[12, 13, 1018, 10, 17, 409, 377, 19, 72]\n",
      "[12, 13, 1018, 10, 17, 409, 377, 19, 72, 163]\n",
      "[12, 13, 1018, 10, 17, 409, 377, 19, 72, 163, 16]\n",
      "[12, 13, 1018, 10, 17, 409, 377, 19, 72, 163, 16, 7]\n",
      "[12, 13, 1018, 10, 17, 409, 377, 19, 72, 163, 16, 7, 13]\n",
      "[12, 13, 1018, 10, 17, 409, 377, 19, 72, 163, 16, 7, 13, 29]\n",
      "Alice was considering in her own mind at its eyes as she was very earnestly\n"
     ]
    }
   ],
   "source": [
    "# начальная строка\n",
    "# seed_text = \"alice opened the door and\"\n",
    "seed_text = \"Alice was considering in her own mind\"\n",
    "\n",
    "next_words = 8\n",
    "  \n",
    "for _ in range(next_words):\n",
    "    token_list = tokenizer.texts_to_sequences([seed_text])[0]\n",
    "    print(token_list)\n",
    "    token_list = pad_sequences([token_list], maxlen = max_sequence_len-1, padding='pre')\n",
    "  #predicted = model.predict_classes(token_list, verbose=0)\n",
    "    output_word = \"\"\n",
    "    y_p = model.predict(token_list)\n",
    "    y_predict = y_p * np.random.random(  size = (1,y_p.shape[1]))\n",
    "    predicted_ind = np.argmax(y_predict,axis = 1)\n",
    "    \n",
    "    for word, index in tokenizer.word_index.items():\n",
    "        if index == predicted_ind:\n",
    "            output_word = word\n",
    "            break\n",
    "    seed_text += \" \" + output_word\n",
    "print(seed_text)"
   ]
  },
  {
   "cell_type": "markdown",
   "metadata": {},
   "source": [
    "Алиса мысленно рассматривала его глаза, так как она была очень серьезна"
   ]
  },
  {
   "cell_type": "markdown",
   "metadata": {},
   "source": [
    "Чем длинее выстраивается фраза, тем менее она адекватна(т.е. алгоритм выдает что-то несуразное). Более-менее \"осмысленно\" выстраиваются средние фразы (до 20 слов), хотя получить от данного алгоритма что-то хорошо выстроенное очень непросто - пока в данном случае единственным вариантом является выстраивание фразы по частям(когда алгоритм выдал что-то вменяемое, а затем к этому добавлять следующее, при этом прийдется вручную определять адекватность куска фразы)."
   ]
  },
  {
   "cell_type": "code",
   "execution_count": null,
   "metadata": {},
   "outputs": [],
   "source": []
  }
 ],
 "metadata": {
  "colab": {
   "collapsed_sections": [],
   "name": "metodich5.ipynb",
   "provenance": []
  },
  "kernelspec": {
   "display_name": "Python 3 (ipykernel)",
   "language": "python",
   "name": "python3"
  },
  "language_info": {
   "codemirror_mode": {
    "name": "ipython",
    "version": 3
   },
   "file_extension": ".py",
   "mimetype": "text/x-python",
   "name": "python",
   "nbconvert_exporter": "python",
   "pygments_lexer": "ipython3",
   "version": "3.7.11"
  }
 },
 "nbformat": 4,
 "nbformat_minor": 1
}
